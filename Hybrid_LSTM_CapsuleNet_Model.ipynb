{
  "nbformat": 4,
  "nbformat_minor": 0,
  "metadata": {
    "colab": {
      "name": "Hybrid_LSTM_CapsuleNet_Model.ipynb",
      "provenance": [],
      "collapsed_sections": []
    },
    "kernelspec": {
      "display_name": "Python 2",
      "name": "python2"
    },
    "language_info": {
      "name": "python"
    }
  },
  "cells": [
    {
      "cell_type": "code",
      "metadata": {
        "id": "2IyCBOhNhneE",
        "colab": {
          "base_uri": "https://localhost:8080/"
        },
        "outputId": "6d4fe90d-667e-4480-fbcc-741063cf9c8c"
      },
      "source": [
        "!pip install q keras==2.1.2"
      ],
      "execution_count": null,
      "outputs": [
        {
          "output_type": "stream",
          "text": [
            "Collecting q\n",
            "  Downloading https://files.pythonhosted.org/packages/53/bc/51619d89e0bd855567e7652fa16d06f1ed36a85f108a7fe71f6629bf719d/q-2.6-py2.py3-none-any.whl\n",
            "Collecting keras==2.1.2\n",
            "\u001b[?25l  Downloading https://files.pythonhosted.org/packages/68/89/58ee5f56a9c26957d97217db41780ebedca3154392cb903c3f8a08a52208/Keras-2.1.2-py2.py3-none-any.whl (304kB)\n",
            "\u001b[K     |████████████████████████████████| 307kB 8.3MB/s \n",
            "\u001b[?25hRequirement already satisfied: pyyaml in /usr/local/lib/python2.7/dist-packages (from keras==2.1.2) (3.13)\n",
            "Requirement already satisfied: six>=1.9.0 in /usr/local/lib/python2.7/dist-packages (from keras==2.1.2) (1.15.0)\n",
            "Requirement already satisfied: numpy>=1.9.1 in /usr/local/lib/python2.7/dist-packages (from keras==2.1.2) (1.16.4)\n",
            "Requirement already satisfied: scipy>=0.14 in /usr/local/lib/python2.7/dist-packages (from keras==2.1.2) (1.2.2)\n",
            "Installing collected packages: q, keras\n",
            "  Found existing installation: Keras 2.3.1\n",
            "    Uninstalling Keras-2.3.1:\n",
            "      Successfully uninstalled Keras-2.3.1\n",
            "Successfully installed keras-2.1.2 q-2.6\n"
          ],
          "name": "stdout"
        }
      ]
    },
    {
      "cell_type": "code",
      "metadata": {
        "id": "XgQBmf-XhrD-",
        "colab": {
          "base_uri": "https://localhost:8080/"
        },
        "outputId": "022f1406-0469-4882-97e5-b6a3e150419d"
      },
      "source": [
        "%tensorflow_version 1.x"
      ],
      "execution_count": null,
      "outputs": [
        {
          "output_type": "stream",
          "text": [
            "TensorFlow 1.x selected.\n"
          ],
          "name": "stdout"
        }
      ]
    },
    {
      "cell_type": "code",
      "metadata": {
        "colab": {
          "base_uri": "https://localhost:8080/",
          "height": 35
        },
        "id": "RKLEGxdrhVgK",
        "outputId": "318b3333-cfb9-4069-a095-3b2152431563"
      },
      "source": [
        "import tensorflow as tf\n",
        "tf.__version__"
      ],
      "execution_count": null,
      "outputs": [
        {
          "output_type": "execute_result",
          "data": {
            "application/vnd.google.colaboratory.intrinsic+json": {
              "type": "string"
            },
            "text/plain": [
              "'1.15.2'"
            ]
          },
          "metadata": {
            "tags": []
          },
          "execution_count": 3
        }
      ]
    },
    {
      "cell_type": "code",
      "metadata": {
        "colab": {
          "base_uri": "https://localhost:8080/"
        },
        "id": "2J3oQqsHiQFz",
        "outputId": "ebc98dc9-6cd4-402c-f760-7cdacb51cbcd"
      },
      "source": [
        "from tensorflow.python.client import device_lib\n",
        "\n",
        "device_lib.list_local_devices()"
      ],
      "execution_count": null,
      "outputs": [
        {
          "output_type": "execute_result",
          "data": {
            "text/plain": [
              "[name: \"/device:CPU:0\"\n",
              " device_type: \"CPU\"\n",
              " memory_limit: 268435456\n",
              " locality {\n",
              " }\n",
              " incarnation: 8664008872573744978, name: \"/device:XLA_CPU:0\"\n",
              " device_type: \"XLA_CPU\"\n",
              " memory_limit: 17179869184\n",
              " locality {\n",
              " }\n",
              " incarnation: 14353362599316884452\n",
              " physical_device_desc: \"device: XLA_CPU device\", name: \"/device:XLA_GPU:0\"\n",
              " device_type: \"XLA_GPU\"\n",
              " memory_limit: 17179869184\n",
              " locality {\n",
              " }\n",
              " incarnation: 2113641021516904448\n",
              " physical_device_desc: \"device: XLA_GPU device\", name: \"/device:GPU:0\"\n",
              " device_type: \"GPU\"\n",
              " memory_limit: 14949928141\n",
              " locality {\n",
              "   bus_id: 1\n",
              "   links {\n",
              "   }\n",
              " }\n",
              " incarnation: 13164202408567892936\n",
              " physical_device_desc: \"device: 0, name: Tesla T4, pci bus id: 0000:00:04.0, compute capability: 7.5\"]"
            ]
          },
          "metadata": {
            "tags": []
          },
          "execution_count": 4
        }
      ]
    },
    {
      "cell_type": "code",
      "metadata": {
        "colab": {
          "base_uri": "https://localhost:8080/",
          "height": 35
        },
        "id": "4A1ozE17hyg5",
        "outputId": "863bbc70-9b9b-400f-f07d-1f4301eae7d1"
      },
      "source": [
        "# check use from CPU/GPU\n",
        "\n",
        "tf.test.gpu_device_name()"
      ],
      "execution_count": null,
      "outputs": [
        {
          "output_type": "execute_result",
          "data": {
            "application/vnd.google.colaboratory.intrinsic+json": {
              "type": "string"
            },
            "text/plain": [
              "'/device:GPU:0'"
            ]
          },
          "metadata": {
            "tags": []
          },
          "execution_count": 5
        }
      ]
    },
    {
      "cell_type": "code",
      "metadata": {
        "colab": {
          "base_uri": "https://localhost:8080/"
        },
        "id": "owZzhJfzhVim",
        "outputId": "5a7ff666-162f-4baa-9f75-677c89006c8f"
      },
      "source": [
        "!nvidia-smi"
      ],
      "execution_count": null,
      "outputs": [
        {
          "output_type": "stream",
          "text": [
            "Fri Jul 30 11:21:59 2021       \n",
            "+-----------------------------------------------------------------------------+\n",
            "| NVIDIA-SMI 470.42.01    Driver Version: 460.32.03    CUDA Version: 11.2     |\n",
            "|-------------------------------+----------------------+----------------------+\n",
            "| GPU  Name        Persistence-M| Bus-Id        Disp.A | Volatile Uncorr. ECC |\n",
            "| Fan  Temp  Perf  Pwr:Usage/Cap|         Memory-Usage | GPU-Util  Compute M. |\n",
            "|                               |                      |               MIG M. |\n",
            "|===============================+======================+======================|\n",
            "|   0  Tesla T4            Off  | 00000000:00:04.0 Off |                    0 |\n",
            "| N/A   57C    P0    28W /  70W |    104MiB / 15109MiB |      0%      Default |\n",
            "|                               |                      |                  N/A |\n",
            "+-------------------------------+----------------------+----------------------+\n",
            "                                                                               \n",
            "+-----------------------------------------------------------------------------+\n",
            "| Processes:                                                                  |\n",
            "|  GPU   GI   CI        PID   Type   Process name                  GPU Memory |\n",
            "|        ID   ID                                                   Usage      |\n",
            "|=============================================================================|\n",
            "|  No running processes found                                                 |\n",
            "+-----------------------------------------------------------------------------+\n"
          ],
          "name": "stdout"
        }
      ]
    },
    {
      "cell_type": "code",
      "metadata": {
        "id": "Z6-RpsSihV2e",
        "colab": {
          "base_uri": "https://localhost:8080/"
        },
        "outputId": "33572bcc-5310-4911-b7c1-e0f5ec2ca352"
      },
      "source": [
        "# data analysis pkg\n",
        "import pandas as pd\n",
        "import numpy as np\n",
        "import matplotlib.pyplot as plt\n",
        "\n",
        "# Word vectorization and splitting dataset\n",
        "from sklearn.model_selection import train_test_split\n",
        "from keras.preprocessing.text import Tokenizer\n",
        "from keras.preprocessing.sequence import pad_sequences\n",
        "\n",
        "# Building sequential model\n",
        "from keras.models import Model\n",
        "# from keras.layers import SpatialDropout1D, Conv1D, GlobalMaxPooling1D\n",
        "from keras.layers import Embedding, Dense, Dropout, Input\n",
        "from keras.layers import LeakyReLU, Input, Flatten, LSTM, SpatialDropout1D, Bidirectional\n",
        "\n",
        "# Cofigurations\n",
        "from keras.callbacks import ModelCheckpoint\n",
        "\n",
        "# import metrics\n",
        "from sklearn.metrics import roc_auc_score, f1_score, accuracy_score, recall_score\n",
        "from sklearn.metrics import roc_curve, auc, confusion_matrix\n",
        "\n",
        "from Capsule_Keras import *\n",
        "\n",
        "# Avoiding warnings\n",
        "import warnings\n",
        "import os\n",
        "########### Prevent Warnings ###########\n",
        "warnings.filterwarnings(action='ignore')\n",
        "########### Prevent Warnings ###########"
      ],
      "execution_count": null,
      "outputs": [
        {
          "output_type": "stream",
          "text": [
            "Using TensorFlow backend.\n"
          ],
          "name": "stderr"
        }
      ]
    },
    {
      "cell_type": "code",
      "metadata": {
        "colab": {
          "base_uri": "https://localhost:8080/"
        },
        "id": "G3mUiKW2ae55",
        "outputId": "18e9698d-9f02-42b4-f3c0-a973ee48176a"
      },
      "source": [
        "from google.colab import drive\n",
        "drive.mount('/content/drive')"
      ],
      "execution_count": null,
      "outputs": [
        {
          "output_type": "stream",
          "text": [
            "Drive already mounted at /content/drive; to attempt to forcibly remount, call drive.mount(\"/content/drive\", force_remount=True).\n"
          ],
          "name": "stdout"
        }
      ]
    },
    {
      "cell_type": "code",
      "metadata": {
        "id": "fwKIhDMKqmK2"
      },
      "source": [
        "\n",
        "# df = pd.read_csv('drive/MyDrive/NLP/data_test.csv')\n",
        "# df.title = df.title.astype('str')\n",
        "# df.text = df.text.astype('str')\n",
        "# df.comment = df.comment.astype('str')\n",
        "# df.rate = df.rate.astype('category')\n",
        "\n",
        "df = pd.read_csv('drive/MyDrive/NLP/cleaned_dataset.csv')\n",
        "df.comment = df.comment.astype('str')\n",
        "df.recommend = df.recommend.astype('category')"
      ],
      "execution_count": null,
      "outputs": []
    },
    {
      "cell_type": "code",
      "metadata": {
        "id": "JylwNrrUq9dD"
      },
      "source": [
        "# features = df.columns.tolist()[:-1]\n",
        "# features = ['text']\n",
        "# label = ['rate']\n",
        "\n",
        "# X_train, X_test, Y_train, Y_test = train_test_split(df[features], df[label], test_size=0.2,random_state=41)\n",
        "\n",
        "# X_train = [text for text in X_train.text]\n",
        "# Y_train = [label for label in Y_train.rate]\n",
        "\n",
        "# X_test = [text for text in X_test.text]\n",
        "# Y_test = [label for label in Y_test.rate]\n",
        "\n",
        "# features = df.columns.tolist()[:-1]\n",
        "features = ['comment']\n",
        "label = ['recommend']\n",
        "\n",
        "X_train, X_test, Y_train, Y_test = train_test_split(df[features], df[label], test_size=0.2,random_state=41)\n",
        "\n",
        "X_train = [text for text in X_train.comment]\n",
        "Y_train = [label for label in Y_train.recommend]\n",
        "\n",
        "X_test = [text for text in X_test.comment]\n",
        "Y_test = [label for label in Y_test.recommend]"
      ],
      "execution_count": null,
      "outputs": []
    },
    {
      "cell_type": "code",
      "metadata": {
        "id": "aaBXJmvpro1X"
      },
      "source": [
        "n_dim = 64\n",
        "n_unique_words = 8000\n",
        "max_text_length = 150\n",
        "pad_type = trunc_type = 'pre'\n",
        "\n",
        "# gru_len = 256\n",
        "Routings = 3\n",
        "Num_capsule = 12\n",
        "Dim_capsule = 10\n",
        "dropout_p = 0.15\n",
        "# rate_drop_dense = 0.15\n",
        "drop_embed = 0.2\n",
        "\n",
        "# max_features = 10000\n",
        "# maxlen = 1000\n",
        "# embed_size = 128"
      ],
      "execution_count": null,
      "outputs": []
    },
    {
      "cell_type": "code",
      "metadata": {
        "id": "n-A549utrpjM"
      },
      "source": [
        "tok = Tokenizer(num_words=n_unique_words, lower=False)\n",
        "tok.fit_on_texts(X_train)\n",
        "\n",
        "train_sequences = tok.texts_to_sequences(X_train)\n",
        "train_sequences_matrix = pad_sequences(train_sequences, maxlen=max_text_length, padding=pad_type)\n",
        "\n",
        "test_sequences = tok.texts_to_sequences(X_test)\n",
        "test_sequences_matrix = pad_sequences(test_sequences, maxlen=max_text_length)\n"
      ],
      "execution_count": null,
      "outputs": []
    },
    {
      "cell_type": "code",
      "metadata": {
        "colab": {
          "base_uri": "https://localhost:8080/"
        },
        "id": "cL39YJCwrq7h",
        "outputId": "fdb78b71-1673-4e72-f112-23470f37e426"
      },
      "source": [
        "train_sequences_matrix.shape"
      ],
      "execution_count": null,
      "outputs": [
        {
          "output_type": "execute_result",
          "data": {
            "text/plain": [
              "(40832, 150)"
            ]
          },
          "metadata": {
            "tags": []
          },
          "execution_count": 14
        }
      ]
    },
    {
      "cell_type": "code",
      "metadata": {
        "id": "BoNsML-Jrvcd"
      },
      "source": [
        "def get_model():\n",
        "#     input1 = Input(shape=(maxlen,))\n",
        "#     embed_layer = Embedding(max_features,\n",
        "#                             embed_size,\n",
        "#                             input_length=maxlen)(input1)\n",
        "#     embed_layer = SpatialDropout1D(rate_drop_dense)(embed_layer)\n",
        "    \n",
        "    input_layer = Input(shape=(max_text_length,), dtype='int16', name='input')\n",
        "    \n",
        "    embedding_layer = Embedding(n_unique_words, n_dim, input_length=max_text_length, name='embedding')(input_layer)\n",
        "    drop_embedding_layer = SpatialDropout1D(drop_embed, name='drop_embed')(embedding_layer)\n",
        "\n",
        "#     x = Bidirectional(LSTM(256,return_sequences=True))(drop_embedding_layer)\n",
        "#     capsule = Capsule(\n",
        "#         num_capsule=Num_capsule,\n",
        "#         dim_capsule=Dim_capsule,\n",
        "#         routings=Routings,\n",
        "#         share_weights=True)(x)\n",
        "\n",
        "#     capsule = Flatten()(capsule)\n",
        "#     capsule = Dropout(dropout_p)(capsule)\n",
        "#     capsule = LeakyReLU()(capsule)\n",
        "\n",
        "#     x = Flatten()(x)\n",
        "#     # output = Dense(1, activation='sigmoid')(x)\n",
        "#     output = Dense(1, activation='sigmoid')(x)\n",
        "#     model = Model(inputs=input1, outputs=output)\n",
        "#     model.compile(\n",
        "#         loss='binary_crossentropy',\n",
        "#         optimizer='adam',\n",
        "#         metrics=['accuracy'])\n",
        "#     model.summary()\n",
        "\n",
        "    x = Bidirectional(LSTM(256,return_sequences=True))(drop_embedding_layer)\n",
        "    capsule = Capsule(\n",
        "        num_capsule=Num_capsule,\n",
        "        dim_capsule=Dim_capsule,\n",
        "        routings=Routings,\n",
        "        share_weights=True)(x)\n",
        "\n",
        "    capsule = Flatten()(capsule)\n",
        "    capsule = Dropout(dropout_p)(capsule)\n",
        "#     capsule = LeakyReLU()(capsule)\n",
        "    capsule = Dense(16, activation=\"relu\")(capsule)\n",
        "    capsule = Dense(1, activation = \"sigmoid\")(capsule)\n",
        "\n",
        "#     x = Flatten()(x)\n",
        "#     output = Dense(1, activation='sigmoid')(x)\n",
        "    model = Model(inputs=input_layer, outputs=capsule)\n",
        "    model.compile(\n",
        "        loss='binary_crossentropy',\n",
        "        optimizer='adam',\n",
        "        # optimizer=Adam(lr=1e-3),        \n",
        "        metrics=['accuracy'])\n",
        "    model.summary()\n",
        "\n",
        "    return model"
      ],
      "execution_count": null,
      "outputs": []
    },
    {
      "cell_type": "code",
      "metadata": {
        "id": "IT_Drr8Arx9i",
        "colab": {
          "base_uri": "https://localhost:8080/"
        },
        "outputId": "541b075d-11b4-4c45-a9fd-c3e51271dda3"
      },
      "source": [
        "model = get_model()\n",
        "batch_size = 32\n",
        "epochs = 15\n",
        "\n",
        "history = model.fit(train_sequences_matrix, Y_train, batch_size=batch_size, epochs=epochs, validation_data=(test_sequences_matrix, Y_test))\n",
        "test_sequences_matrix = train_sequences_matrix\n",
        "y_hat = model.predict(test_sequences_matrix)"
      ],
      "execution_count": null,
      "outputs": [
        {
          "output_type": "stream",
          "text": [
            "WARNING: Logging before flag parsing goes to stderr.\n",
            "W0730 11:24:50.008107 139716985747328 module_wrapper.py:139] From /usr/local/lib/python2.7/dist-packages/keras/backend/tensorflow_backend.py:497: The name tf.placeholder is deprecated. Please use tf.compat.v1.placeholder instead.\n",
            "\n",
            "W0730 11:24:50.014405 139716985747328 module_wrapper.py:139] From /usr/local/lib/python2.7/dist-packages/keras/backend/tensorflow_backend.py:3636: The name tf.random_uniform is deprecated. Please use tf.random.uniform instead.\n",
            "\n",
            "W0730 11:24:50.034359 139716985747328 module_wrapper.py:139] From /usr/local/lib/python2.7/dist-packages/keras/backend/tensorflow_backend.py:118: The name tf.get_default_graph is deprecated. Please use tf.compat.v1.get_default_graph instead.\n",
            "\n",
            "W0730 11:24:50.041044 139716985747328 deprecation.py:506] From /usr/local/lib/python2.7/dist-packages/keras/backend/tensorflow_backend.py:3019: calling dropout (from tensorflow.python.ops.nn_ops) with keep_prob is deprecated and will be removed in a future version.\n",
            "Instructions for updating:\n",
            "Please use `rate` instead of `keep_prob`. Rate should be set to `rate = 1 - keep_prob`.\n",
            "W0730 11:24:50.332144 139716985747328 deprecation.py:506] From /usr/local/lib/python2.7/dist-packages/keras/backend/tensorflow_backend.py:1247: calling reduce_sum_v1 (from tensorflow.python.ops.math_ops) with keep_dims is deprecated and will be removed in a future version.\n",
            "Instructions for updating:\n",
            "keep_dims is deprecated, use keepdims instead\n",
            "W0730 11:24:50.562458 139716985747328 deprecation.py:506] From /usr/local/lib/python2.7/dist-packages/keras/backend/tensorflow_backend.py:1213: calling reduce_max_v1 (from tensorflow.python.ops.math_ops) with keep_dims is deprecated and will be removed in a future version.\n",
            "Instructions for updating:\n",
            "keep_dims is deprecated, use keepdims instead\n",
            "W0730 11:24:50.571073 139716985747328 deprecation.py:506] From /usr/local/lib/python2.7/dist-packages/keras/backend/tensorflow_backend.py:3032: calling l2_normalize (from tensorflow.python.ops.nn_impl) with dim is deprecated and will be removed in a future version.\n",
            "Instructions for updating:\n",
            "dim is deprecated, use axis instead\n",
            "W0730 11:24:50.610958 139716985747328 deprecation.py:506] From /usr/local/lib/python2.7/dist-packages/keras/backend/tensorflow_backend.py:1264: calling reduce_prod_v1 (from tensorflow.python.ops.math_ops) with keep_dims is deprecated and will be removed in a future version.\n",
            "Instructions for updating:\n",
            "keep_dims is deprecated, use keepdims instead\n",
            "W0730 11:24:50.643610 139716985747328 module_wrapper.py:139] From /usr/local/lib/python2.7/dist-packages/keras/optimizers.py:711: The name tf.train.Optimizer is deprecated. Please use tf.compat.v1.train.Optimizer instead.\n",
            "\n",
            "W0730 11:24:50.661307 139716985747328 module_wrapper.py:139] From /usr/local/lib/python2.7/dist-packages/keras/backend/tensorflow_backend.py:2950: The name tf.log is deprecated. Please use tf.math.log instead.\n",
            "\n",
            "W0730 11:24:50.666479 139716985747328 deprecation.py:323] From /tensorflow-1.15.2/python2.7/tensorflow_core/python/ops/nn_impl.py:183: where (from tensorflow.python.ops.array_ops) is deprecated and will be removed in a future version.\n",
            "Instructions for updating:\n",
            "Use tf.where in 2.0, which has the same broadcast rule as np.where\n"
          ],
          "name": "stderr"
        },
        {
          "output_type": "stream",
          "text": [
            "_________________________________________________________________\n",
            "Layer (type)                 Output Shape              Param #   \n",
            "=================================================================\n",
            "input (InputLayer)           (None, 150)               0         \n",
            "_________________________________________________________________\n",
            "embedding (Embedding)        (None, 150, 64)           512000    \n",
            "_________________________________________________________________\n",
            "drop_embed (SpatialDropout1D (None, 150, 64)           0         \n",
            "_________________________________________________________________\n",
            "bidirectional_1 (Bidirection (None, 150, 512)          657408    \n",
            "_________________________________________________________________\n",
            "capsule_1 (Capsule)          (None, 12, 10)            61440     \n",
            "_________________________________________________________________\n",
            "flatten_1 (Flatten)          (None, 120)               0         \n",
            "_________________________________________________________________\n",
            "dropout_1 (Dropout)          (None, 120)               0         \n",
            "_________________________________________________________________\n",
            "dense_1 (Dense)              (None, 16)                1936      \n",
            "_________________________________________________________________\n",
            "dense_2 (Dense)              (None, 1)                 17        \n",
            "=================================================================\n",
            "Total params: 1,232,801\n",
            "Trainable params: 1,232,801\n",
            "Non-trainable params: 0\n",
            "_________________________________________________________________\n"
          ],
          "name": "stdout"
        },
        {
          "output_type": "stream",
          "text": [
            "W0730 11:24:52.068068 139716985747328 module_wrapper.py:139] From /usr/local/lib/python2.7/dist-packages/keras/backend/tensorflow_backend.py:958: The name tf.assign_add is deprecated. Please use tf.compat.v1.assign_add instead.\n",
            "\n",
            "W0730 11:24:52.080332 139716985747328 deprecation.py:506] From /usr/local/lib/python2.7/dist-packages/keras/backend/tensorflow_backend.py:680: calling __init__ (from tensorflow.python.ops.init_ops) with dtype is deprecated and will be removed in a future version.\n",
            "Instructions for updating:\n",
            "Call initializer instance with the dtype argument instead of passing it to the constructor\n",
            "W0730 11:24:52.162022 139716985747328 module_wrapper.py:139] From /usr/local/lib/python2.7/dist-packages/keras/backend/tensorflow_backend.py:945: The name tf.assign is deprecated. Please use tf.compat.v1.assign instead.\n",
            "\n",
            "W0730 11:24:52.274869 139716985747328 module_wrapper.py:139] From /usr/local/lib/python2.7/dist-packages/keras/backend/tensorflow_backend.py:2378: The name tf.Session is deprecated. Please use tf.compat.v1.Session instead.\n",
            "\n",
            "W0730 11:24:52.281425 139716985747328 module_wrapper.py:139] From /usr/local/lib/python2.7/dist-packages/keras/backend/tensorflow_backend.py:159: The name tf.get_default_session is deprecated. Please use tf.compat.v1.get_default_session instead.\n",
            "\n",
            "W0730 11:24:52.282987 139716985747328 module_wrapper.py:139] From /usr/local/lib/python2.7/dist-packages/keras/backend/tensorflow_backend.py:164: The name tf.ConfigProto is deprecated. Please use tf.compat.v1.ConfigProto instead.\n",
            "\n",
            "W0730 11:24:52.289971 139716985747328 module_wrapper.py:139] From /usr/local/lib/python2.7/dist-packages/keras/backend/tensorflow_backend.py:173: The name tf.global_variables is deprecated. Please use tf.compat.v1.global_variables instead.\n",
            "\n",
            "W0730 11:24:52.295955 139716985747328 module_wrapper.py:139] From /usr/local/lib/python2.7/dist-packages/keras/backend/tensorflow_backend.py:182: The name tf.is_variable_initialized is deprecated. Please use tf.compat.v1.is_variable_initialized instead.\n",
            "\n",
            "W0730 11:24:52.475501 139716985747328 module_wrapper.py:139] From /usr/local/lib/python2.7/dist-packages/keras/backend/tensorflow_backend.py:189: The name tf.variables_initializer is deprecated. Please use tf.compat.v1.variables_initializer instead.\n",
            "\n"
          ],
          "name": "stderr"
        },
        {
          "output_type": "stream",
          "text": [
            "Train on 40832 samples, validate on 10209 samples\n",
            "Epoch 1/15\n",
            "40832/40832 [==============================] - 457s 11ms/step - loss: 0.5296 - acc: 0.7447 - val_loss: 0.4567 - val_acc: 0.7977\n",
            "Epoch 2/15\n",
            "40832/40832 [==============================] - 440s 11ms/step - loss: 0.4188 - acc: 0.8171 - val_loss: 0.3737 - val_acc: 0.8240\n",
            "Epoch 3/15\n",
            "40832/40832 [==============================] - 443s 11ms/step - loss: 0.3020 - acc: 0.8762 - val_loss: 0.3585 - val_acc: 0.8505\n",
            "Epoch 4/15\n",
            "40832/40832 [==============================] - 446s 11ms/step - loss: 0.2351 - acc: 0.9089 - val_loss: 0.2760 - val_acc: 0.8916\n",
            "Epoch 5/15\n",
            "40832/40832 [==============================] - 451s 11ms/step - loss: 0.2031 - acc: 0.9241 - val_loss: 0.2748 - val_acc: 0.8917\n",
            "Epoch 6/15\n",
            "40832/40832 [==============================] - 438s 11ms/step - loss: 0.1787 - acc: 0.9357 - val_loss: 0.2995 - val_acc: 0.8893\n",
            "Epoch 7/15\n",
            "40832/40832 [==============================] - 435s 11ms/step - loss: 0.1591 - acc: 0.9439 - val_loss: 0.2927 - val_acc: 0.8863\n",
            "Epoch 8/15\n",
            "40832/40832 [==============================] - 437s 11ms/step - loss: 0.1437 - acc: 0.9485 - val_loss: 0.3386 - val_acc: 0.8863\n",
            "Epoch 9/15\n",
            "40832/40832 [==============================] - 440s 11ms/step - loss: 0.1303 - acc: 0.9553 - val_loss: 0.3439 - val_acc: 0.8864\n",
            "Epoch 10/15\n",
            "40832/40832 [==============================] - 451s 11ms/step - loss: 0.1168 - acc: 0.9610 - val_loss: 0.3415 - val_acc: 0.8818\n",
            "Epoch 11/15\n",
            "40832/40832 [==============================] - 450s 11ms/step - loss: 0.1054 - acc: 0.9647 - val_loss: 0.3897 - val_acc: 0.8800\n",
            "Epoch 12/15\n",
            "40832/40832 [==============================] - 450s 11ms/step - loss: 0.0981 - acc: 0.9680 - val_loss: 0.3512 - val_acc: 0.8730\n",
            "Epoch 13/15\n",
            "40832/40832 [==============================] - 449s 11ms/step - loss: 0.0881 - acc: 0.9713 - val_loss: 0.4121 - val_acc: 0.8795\n",
            "Epoch 14/15\n",
            "40832/40832 [==============================] - 448s 11ms/step - loss: 0.0803 - acc: 0.9742 - val_loss: 0.4058 - val_acc: 0.8800\n",
            "Epoch 15/15\n",
            "40832/40832 [==============================] - 454s 11ms/step - loss: 0.0752 - acc: 0.9754 - val_loss: 0.4652 - val_acc: 0.8704\n"
          ],
          "name": "stdout"
        }
      ]
    },
    {
      "cell_type": "code",
      "metadata": {
        "colab": {
          "base_uri": "https://localhost:8080/"
        },
        "id": "jC3HguskyzcM",
        "outputId": "77b34a35-2f33-4b9a-f9f9-91b5d01ee636"
      },
      "source": [
        "final_accuracy = history.history[\"val_acc\"][-5:]\n",
        "print(\"FINAL VALL_ACCURACY MEAN-5: \", np.mean(final_accuracy))"
      ],
      "execution_count": null,
      "outputs": [
        {
          "output_type": "stream",
          "text": [
            "('FINAL VALL_ACCURACY MEAN-5: ', 0.8765794886864532)\n"
          ],
          "name": "stdout"
        }
      ]
    },
    {
      "cell_type": "code",
      "metadata": {
        "colab": {
          "base_uri": "https://localhost:8080/"
        },
        "id": "V1oWOr5-zDBs",
        "outputId": "f3d1979f-9781-436c-b2dc-25ec0e1c74af"
      },
      "source": [
        "final_accuracy = history.history[\"acc\"][-5:]\n",
        "print(\"FINAL ACCURACY MEAN-5: \", np.mean(final_accuracy))"
      ],
      "execution_count": null,
      "outputs": [
        {
          "output_type": "stream",
          "text": [
            "('FINAL ACCURACY MEAN-5: ', 0.9707337382445141)\n"
          ],
          "name": "stdout"
        }
      ]
    },
    {
      "cell_type": "code",
      "metadata": {
        "colab": {
          "base_uri": "https://localhost:8080/",
          "height": 899
        },
        "id": "HMLAVhUWzLWr",
        "outputId": "dcda1cf1-afcd-4299-8fdb-7a381c9beadc"
      },
      "source": [
        "def display_training_curves(training, validation, title, subplot):\n",
        "  ax = plt.subplot(subplot)\n",
        "  ax.plot(training)\n",
        "  ax.plot(validation)\n",
        "  ax.set_title('Model '+ title)\n",
        "  ax.set_ylabel(title)\n",
        "  ax.set_xlabel('Epoch')\n",
        "  ax.legend(['training', 'validation'])\n",
        "\n",
        "plt.subplots(figsize=(10,12))\n",
        "plt.tight_layout()\n",
        "display_training_curves(history.history['acc'], history.history['val_acc'], 'accuracy', 211)\n",
        "display_training_curves(history.history['loss'], history.history['val_loss'], 'loss', 212)"
      ],
      "execution_count": null,
      "outputs": [
        {
          "output_type": "display_data",
          "data": {
            "image/png": "[encoded data removed]",
            "text/plain": [
              "<Figure size 720x864 with 2 Axes>"
            ]
          },
          "metadata": {
            "tags": [],
            "needs_background": "light"
          }
        }
      ]
    },
    {
      "cell_type": "code",
      "metadata": {
        "colab": {
          "base_uri": "https://localhost:8080/",
          "height": 755
        },
        "id": "DioONLdzzLfF",
        "outputId": "9cc95066-4918-4a4d-9527-f61a68e0e092"
      },
      "source": [
        "def display_training_curves(training, validation, title, subplot):\n",
        "  ax = plt.subplot(subplot)\n",
        "  ax.plot(training)\n",
        "  ax.set_title('model '+ title)\n",
        "  ax.set_ylabel(title)\n",
        "  ax.set_xlabel('epoch')\n",
        "  ax.legend(['training'])\n",
        "\n",
        "plt.subplots(figsize=(10,10))\n",
        "plt.tight_layout()\n",
        "display_training_curves(history.history['acc'], history.history['val_acc'], 'accuracy', 211)\n",
        "display_training_curves(history.history['loss'], history.history['val_loss'], 'loss', 212)"
      ],
      "execution_count": null,
      "outputs": [
        {
          "output_type": "display_data",
          "data": {
            "image/png": "[encoded data removed]",
            "text/plain": [
              "<Figure size 720x720 with 2 Axes>"
            ]
          },
          "metadata": {
            "tags": [],
            "needs_background": "light"
          }
        }
      ]
    },
    {
      "cell_type": "code",
      "metadata": {
        "id": "AfYC7aj2rzgd"
      },
      "source": [
        "# if __name__ == '__main__':\n",
        "#     main()"
      ],
      "execution_count": null,
      "outputs": []
    },
    {
      "cell_type": "code",
      "metadata": {
        "id": "zmyAeC8rXFMm"
      },
      "source": [
        "# model = get_model()\n",
        "\n",
        "# y_hat = model.predict(test_sequences_matrix)"
      ],
      "execution_count": null,
      "outputs": []
    },
    {
      "cell_type": "code",
      "metadata": {
        "colab": {
          "base_uri": "https://localhost:8080/"
        },
        "id": "DlYxoYCwnFw7",
        "outputId": "fb41db17-0669-4a2a-aa22-4496164788c4"
      },
      "source": [
        "RoundIntPredicted = np.where(y_hat > 0.5, 1, 0)\n",
        "print (np.array(RoundIntPredicted))\n",
        "# print(y_hat)"
      ],
      "execution_count": null,
      "outputs": [
        {
          "output_type": "stream",
          "text": [
            "[[1]\n",
            " [0]\n",
            " [1]\n",
            " ...\n",
            " [1]\n",
            " [1]\n",
            " [0]]\n"
          ],
          "name": "stdout"
        }
      ]
    },
    {
      "cell_type": "code",
      "metadata": {
        "colab": {
          "base_uri": "https://localhost:8080/"
        },
        "id": "qxUM17-_XFQ_",
        "outputId": "3362b0e6-b832-4d30-e494-44bcbbefe7a6"
      },
      "source": [
        "auc = roc_auc_score(Y_train, RoundIntPredicted)*100.0\n",
        "print(auc)"
      ],
      "execution_count": null,
      "outputs": [
        {
          "output_type": "stream",
          "text": [
            "97.88601387471854\n"
          ],
          "name": "stdout"
        }
      ]
    },
    {
      "cell_type": "markdown",
      "metadata": {
        "id": "hYPDBR0IgqP7"
      },
      "source": [
        "fpr, tpr, thresholds = roc_curve(Y_train,RoundIntPredicted )\n",
        "roc_auc = auc(fpr, tpr)"
      ]
    },
    {
      "cell_type": "code",
      "metadata": {
        "colab": {
          "base_uri": "https://localhost:8080/"
        },
        "id": "7ED4SbMtnrev",
        "outputId": "689cb18c-cc47-40bd-9fee-59f396b30afe"
      },
      "source": [
        "from sklearn.metrics import confusion_matrix\n",
        "from sklearn.metrics import recall_score\n",
        "\n",
        "confusion = confusion_matrix(Y_train, RoundIntPredicted)\n",
        "print(confusion)\n",
        "\n",
        "# True Positives\n",
        "TP = confusion[1, 1]\n",
        "# True Negatives\n",
        "TN = confusion[0, 0]\n",
        "# False Positives\n",
        "FP = confusion[0, 1]\n",
        "# False Negatives\n",
        "FN = confusion[1, 0]\n",
        "\n",
        "#Accuracy \n",
        "print(\"Accuracy of Hybrid LSTM_Capsule Network:\")\n",
        "print(accuracy_score(Y_train, RoundIntPredicted))\n",
        "print(\"=======================\")\n",
        "\n",
        "# Sensitivity \n",
        "print(\"Sensitivity of Hybrid LSTM_Capsule Network:\")\n",
        "print(recall_score(Y_train, RoundIntPredicted))\n",
        "print(\"=======================\")\n",
        "\n",
        "\n",
        "# specificity \n",
        "print(\"specificity of Hybrid LSTM_Capsule Network:\")\n",
        "print(TN / float(TN + FP))\n",
        "print(\"=======================\")\n",
        "\n",
        "# print(sensitivity(\"Sensitivity score :\", y_test, predicted_y))"
      ],
      "execution_count": null,
      "outputs": [
        {
          "output_type": "stream",
          "text": [
            "[[12264   244]\n",
            " [  645 27679]]\n",
            "Accuracy of Hybrid LSTM_Capsule Network:\n",
            "0.9782278605015674\n",
            "=======================\n",
            "Sensitivity of Hybrid LSTM_Capsule Network:\n",
            "0.9772277926846491\n",
            "=======================\n",
            "specificity of Hybrid LSTM_Capsule Network:\n",
            "0.9804924848097217\n",
            "=======================\n"
          ],
          "name": "stdout"
        }
      ]
    },
    {
      "cell_type": "code",
      "metadata": {
        "colab": {
          "base_uri": "https://localhost:8080/",
          "height": 295
        },
        "id": "Ku-LAumvgqYU",
        "outputId": "2bc30646-d5e3-4380-baf0-337c379da9f9"
      },
      "source": [
        "from sklearn.metrics import roc_auc_score\n",
        "from sklearn.preprocessing import LabelBinarizer\n",
        "\n",
        "def multiclass_roc_auc_score(Y_train, RoundIntPredicted, average=\"macro\"):\n",
        "\n",
        "   \n",
        "    y_test = lb.transform(Y_train)\n",
        "    RoundIntPredicted = lb.transform(RoundIntPredicted)\n",
        "\n",
        "    return roc_auc_score(Y_train, RoundIntPredicted, average=average)\n",
        "\n",
        "from sklearn.metrics import roc_curve, auc\n",
        "import matplotlib.pyplot as plt\n",
        "\n",
        "false_positive_rate, true_positive_rate, thresholds = roc_curve(Y_train, RoundIntPredicted)\n",
        "roc_auc = auc(false_positive_rate, true_positive_rate)\n",
        "\n",
        "plt.title('Receiver Operating Characteristic (ROC)')\n",
        "plt.plot(false_positive_rate, true_positive_rate, 'b',\n",
        "label='AUC = %0.2f'% roc_auc)\n",
        "plt.legend(loc='lower right')\n",
        "plt.plot([0,1],[0,1],'r--')\n",
        "plt.xlim([-0.1,1.2])\n",
        "plt.ylim([-0.1,1.2])\n",
        "plt.ylabel('True Positive Rate')\n",
        "plt.xlabel('False Positive Rate')\n",
        "plt.show()\n"
      ],
      "execution_count": null,
      "outputs": [
        {
          "output_type": "display_data",
          "data": {
            "image/png": "[encoded data removed]",
            "text/plain": [
              "<Figure size 432x288 with 1 Axes>"
            ]
          },
          "metadata": {
            "tags": [],
            "needs_background": "light"
          }
        }
      ]
    },
    {
      "cell_type": "code",
      "metadata": {
        "id": "2a-CHwxsRZjc",
        "colab": {
          "base_uri": "https://localhost:8080/",
          "height": 322
        },
        "outputId": "ca7924fc-b7ce-49c5-d942-9046ddcdaed4"
      },
      "source": [
        "from sklearn.metrics import confusion_matrix\n",
        "\n",
        "\n",
        "cm = confusion_matrix(Y_train, RoundIntPredicted)\n",
        "print(cm)\n",
        "fig = plt.figure()\n",
        "ax = fig.add_subplot(111)\n",
        "cax = ax.matshow(cm)\n",
        "plt.title('Confusion matrix of Hybrid LSTM_Capsule Network')\n",
        "fig.colorbar(cax)\n",
        "ax.set_xticklabels([''] )\n",
        "ax.set_yticklabels([''] )\n",
        "plt.xlabel('Predicted')\n",
        "plt.ylabel('True')\n",
        "plt.show()"
      ],
      "execution_count": null,
      "outputs": [
        {
          "output_type": "stream",
          "text": [
            "[[12264   244]\n",
            " [  645 27679]]\n"
          ],
          "name": "stdout"
        },
        {
          "output_type": "display_data",
          "data": {
            "image/png": "[encoded data removed]",
            "text/plain": [
              "<Figure size 432x288 with 2 Axes>"
            ]
          },
          "metadata": {
            "tags": [],
            "needs_background": "light"
          }
        }
      ]
    },
    {
      "cell_type": "code",
      "metadata": {
        "colab": {
          "base_uri": "https://localhost:8080/"
        },
        "id": "aZ2fA-lK12HO",
        "outputId": "624ce78a-5c1d-46ab-c535-463d561c09f8"
      },
      "source": [
        "RoundIntPredicted = np.where(y_hat > 0.5, 1, 0)\n",
        "print(RoundIntPredicted[23])\n",
        "print(Y_test[23])"
      ],
      "execution_count": null,
      "outputs": [
        {
          "output_type": "stream",
          "text": [
            "[1]\n",
            "1\n"
          ],
          "name": "stdout"
        }
      ]
    },
    {
      "cell_type": "code",
      "metadata": {
        "colab": {
          "base_uri": "https://localhost:8080/"
        },
        "id": "KjjKKh0_2fC3",
        "outputId": "18bb1716-0bee-4c30-fa6f-6a9b976a0525"
      },
      "source": [
        "auc = roc_auc_score(Y_train, RoundIntPredicted)*100.0\n",
        "print(auc)"
      ],
      "execution_count": null,
      "outputs": [
        {
          "output_type": "stream",
          "text": [
            "97.88601387471854\n"
          ],
          "name": "stdout"
        }
      ]
    },
    {
      "cell_type": "code",
      "metadata": {
        "colab": {
          "base_uri": "https://localhost:8080/",
          "height": 212
        },
        "id": "Y-QCQ2RO2iAZ",
        "outputId": "d01de666-3452-4dae-876f-cb6d2003a723"
      },
      "source": [
        "fpr, tpr, thresholds = roc_curve(Y_train,RoundIntPredicted )\n",
        "roc_auc = auc(fpr, tpr)\n",
        "print(tpr)\n",
        "print(fpr)"
      ],
      "execution_count": null,
      "outputs": [
        {
          "output_type": "error",
          "ename": "TypeError",
          "evalue": "ignored",
          "traceback": [
            "\u001b[0;31m\u001b[0m",
            "\u001b[0;31mTypeError\u001b[0mTraceback (most recent call last)",
            "\u001b[0;32m<ipython-input-54-9969b3b2e45a>\u001b[0m in \u001b[0;36m<module>\u001b[0;34m()\u001b[0m\n\u001b[1;32m      1\u001b[0m \u001b[0mfpr\u001b[0m\u001b[0;34m,\u001b[0m \u001b[0mtpr\u001b[0m\u001b[0;34m,\u001b[0m \u001b[0mthresholds\u001b[0m \u001b[0;34m=\u001b[0m \u001b[0mroc_curve\u001b[0m\u001b[0;34m(\u001b[0m\u001b[0mY_train\u001b[0m\u001b[0;34m,\u001b[0m\u001b[0mRoundIntPredicted\u001b[0m \u001b[0;34m)\u001b[0m\u001b[0;34m\u001b[0m\u001b[0m\n\u001b[0;32m----> 2\u001b[0;31m \u001b[0mroc_auc\u001b[0m \u001b[0;34m=\u001b[0m \u001b[0mauc\u001b[0m\u001b[0;34m(\u001b[0m\u001b[0mfpr\u001b[0m\u001b[0;34m,\u001b[0m \u001b[0mtpr\u001b[0m\u001b[0;34m)\u001b[0m\u001b[0;34m\u001b[0m\u001b[0m\n\u001b[0m\u001b[1;32m      3\u001b[0m \u001b[0;32mprint\u001b[0m\u001b[0;34m(\u001b[0m\u001b[0mtpr\u001b[0m\u001b[0;34m)\u001b[0m\u001b[0;34m\u001b[0m\u001b[0m\n\u001b[1;32m      4\u001b[0m \u001b[0;32mprint\u001b[0m\u001b[0;34m(\u001b[0m\u001b[0mfpr\u001b[0m\u001b[0;34m)\u001b[0m\u001b[0;34m\u001b[0m\u001b[0m\n",
            "\u001b[0;31mTypeError\u001b[0m: 'numpy.float64' object is not callable"
          ]
        }
      ]
    },
    {
      "cell_type": "code",
      "metadata": {
        "colab": {
          "base_uri": "https://localhost:8080/",
          "height": 229
        },
        "id": "3Zi8wR0S28R7",
        "outputId": "9557a8be-67dc-476b-dc1f-86bd7383658b"
      },
      "source": [
        "label = 'Hybrid LSTM CapsuleNet AUC:' + ' {0:.2f}'.format(roc_auc)\n",
        "plt.plot(fpr, tpr, c = 'g', label = label, linewidth = 4)\n",
        "plt.xlabel('False Positive Rate', fontsize = 16)\n",
        "plt.ylabel('True Positive Rate', fontsize = 16)\n",
        "plt.title('Receiver Operating Characteristic', fontsize = 16)\n",
        "plt.legend(loc = 'lower right', fontsize = 16)"
      ],
      "execution_count": null,
      "outputs": [
        {
          "output_type": "error",
          "ename": "NameError",
          "evalue": "ignored",
          "traceback": [
            "\u001b[0;31m\u001b[0m",
            "\u001b[0;31mNameError\u001b[0mTraceback (most recent call last)",
            "\u001b[0;32m<ipython-input-2-76eb94b6d2d7>\u001b[0m in \u001b[0;36m<module>\u001b[0;34m()\u001b[0m\n\u001b[0;32m----> 1\u001b[0;31m \u001b[0mlabel\u001b[0m \u001b[0;34m=\u001b[0m \u001b[0;34m'Hybrid LSTM CapsuleNet AUC:'\u001b[0m \u001b[0;34m+\u001b[0m \u001b[0;34m' {0:.2f}'\u001b[0m\u001b[0;34m.\u001b[0m\u001b[0mformat\u001b[0m\u001b[0;34m(\u001b[0m\u001b[0mroc_auc\u001b[0m\u001b[0;34m)\u001b[0m\u001b[0;34m\u001b[0m\u001b[0m\n\u001b[0m\u001b[1;32m      2\u001b[0m \u001b[0mplt\u001b[0m\u001b[0;34m.\u001b[0m\u001b[0mplot\u001b[0m\u001b[0;34m(\u001b[0m\u001b[0mfpr\u001b[0m\u001b[0;34m,\u001b[0m \u001b[0mtpr\u001b[0m\u001b[0;34m,\u001b[0m \u001b[0mc\u001b[0m \u001b[0;34m=\u001b[0m \u001b[0;34m'g'\u001b[0m\u001b[0;34m,\u001b[0m \u001b[0mlabel\u001b[0m \u001b[0;34m=\u001b[0m \u001b[0mlabel\u001b[0m\u001b[0;34m,\u001b[0m \u001b[0mlinewidth\u001b[0m \u001b[0;34m=\u001b[0m \u001b[0;36m4\u001b[0m\u001b[0;34m)\u001b[0m\u001b[0;34m\u001b[0m\u001b[0m\n\u001b[1;32m      3\u001b[0m \u001b[0mplt\u001b[0m\u001b[0;34m.\u001b[0m\u001b[0mxlabel\u001b[0m\u001b[0;34m(\u001b[0m\u001b[0;34m'False Positive Rate'\u001b[0m\u001b[0;34m,\u001b[0m \u001b[0mfontsize\u001b[0m \u001b[0;34m=\u001b[0m \u001b[0;36m16\u001b[0m\u001b[0;34m)\u001b[0m\u001b[0;34m\u001b[0m\u001b[0m\n\u001b[1;32m      4\u001b[0m \u001b[0mplt\u001b[0m\u001b[0;34m.\u001b[0m\u001b[0mylabel\u001b[0m\u001b[0;34m(\u001b[0m\u001b[0;34m'True Positive Rate'\u001b[0m\u001b[0;34m,\u001b[0m \u001b[0mfontsize\u001b[0m \u001b[0;34m=\u001b[0m \u001b[0;36m16\u001b[0m\u001b[0;34m)\u001b[0m\u001b[0;34m\u001b[0m\u001b[0m\n\u001b[1;32m      5\u001b[0m \u001b[0mplt\u001b[0m\u001b[0;34m.\u001b[0m\u001b[0mtitle\u001b[0m\u001b[0;34m(\u001b[0m\u001b[0;34m'Receiver Operating Characteristic'\u001b[0m\u001b[0;34m,\u001b[0m \u001b[0mfontsize\u001b[0m \u001b[0;34m=\u001b[0m \u001b[0;36m16\u001b[0m\u001b[0;34m)\u001b[0m\u001b[0;34m\u001b[0m\u001b[0m\n",
            "\u001b[0;31mNameError\u001b[0m: name 'roc_auc' is not defined"
          ]
        }
      ]
    },
    {
      "cell_type": "code",
      "metadata": {
        "colab": {
          "base_uri": "https://localhost:8080/",
          "height": 322
        },
        "id": "qM9iEPCy2_ZN",
        "outputId": "eb54ab3f-a880-42ab-9c11-501ec03ca066"
      },
      "source": [
        "cm = confusion_matrix(Y_train, RoundIntPredicted)\n",
        "print(cm)\n",
        "fig = plt.figure()\n",
        "ax = fig.add_subplot(111)\n",
        "cax = ax.matshow(cm)\n",
        "plt.title('Confusion matrix of the Hybrid Model')\n",
        "fig.colorbar(cax)\n",
        "ax.set_xticklabels([''] )\n",
        "ax.set_yticklabels([''] )\n",
        "plt.xlabel('Predicted')\n",
        "plt.ylabel('True')\n",
        "plt.show()"
      ],
      "execution_count": null,
      "outputs": [
        {
          "output_type": "stream",
          "text": [
            "[[12264   244]\n",
            " [  645 27679]]\n"
          ],
          "name": "stdout"
        },
        {
          "output_type": "display_data",
          "data": {
            "image/png": "[encoded data removed]",
            "text/plain": [
              "<Figure size 432x288 with 2 Axes>"
            ]
          },
          "metadata": {
            "tags": [],
            "needs_background": "light"
          }
        }
      ]
    },
    {
      "cell_type": "code",
      "metadata": {
        "id": "-x-lvdPx3L0y"
      },
      "source": [
        "def calculate_sensitivity_specificity(Y_train, RoundIntPredicted):\n",
        "    # Note: More parameters are defined than necessary. \n",
        "    # This would allow return of other measures other than sensitivity and specificity\n",
        "    \n",
        "    # Get true/false for whether a breach actually occurred\n",
        "    actual_pos = Y_train == 1\n",
        "    actual_neg = Y_train == 0\n",
        "    \n",
        "    # Get true and false test (true test match actual, false tests differ from actual)\n",
        "    true_pos = (RoundIntPredicted == 1) & (actual_pos)\n",
        "    false_pos = (RoundIntPredicted == 1) & (actual_neg)\n",
        "    true_neg = (RoundIntPredicted == 0) & (actual_neg)\n",
        "    false_neg = (RoundIntPredicted == 0) & (actual_pos)\n",
        "    \n",
        "    # Calculate accuracy\n",
        "    accuracy = np.mean(RoundIntPredicted == Y_train)\n",
        "    \n",
        "    # Calculate sensitivity and specificity\n",
        "    sensitivity = np.sum(true_pos) / np.sum(actual_pos)\n",
        "    specificity = np.sum(true_neg) / np.sum(actual_neg)\n",
        "    \n",
        "    return sensitivity, specificity, accuracy"
      ],
      "execution_count": null,
      "outputs": []
    },
    {
      "cell_type": "code",
      "metadata": {
        "id": "BK5gOAba3kIq"
      },
      "source": [
        "# sensitivity, specificity, accuracy = calculate_sensitivity_specificity(Y_train, RoundIntPredicted)\n",
        "# print ('Sensitivity:', sensitivity)\n",
        "# print ('Specificity:', specificity)\n",
        "# print ('Accuracy:', accuracy)"
      ],
      "execution_count": null,
      "outputs": []
    },
    {
      "cell_type": "code",
      "metadata": {
        "id": "33NihNho4DA0"
      },
      "source": [
        ""
      ],
      "execution_count": null,
      "outputs": []
    }
  ]
}